{
  "cells": [
    {
      "cell_type": "markdown",
      "metadata": {
        "id": "view-in-github",
        "colab_type": "text"
      },
      "source": [
        "<a href=\"https://colab.research.google.com/github/weisben/Deutch-Jozsa-IBM-Error/blob/main/DJ-Error.ipynb\" target=\"_parent\"><img src=\"https://colab.research.google.com/assets/colab-badge.svg\" alt=\"Open In Colab\"/></a>"
      ]
    },
    {
      "cell_type": "markdown",
      "metadata": {
        "id": "baac1c57-a378-4b1e-9a30-017f22f175df"
      },
      "source": [
        "# Testing IBM's error rates using the Deutsch-Jozsa Algorithm"
      ],
      "id": "baac1c57-a378-4b1e-9a30-017f22f175df"
    },
    {
      "cell_type": "markdown",
      "metadata": {
        "id": "IDy-MoOcmlnp"
      },
      "source": [
        "In this demo, I am testing the error rates of IBM's quantum computers when running the Deutch-Jozsa algorithm. First, we need to install some packages. If the imports do not work, try restarting the kernel."
      ],
      "id": "IDy-MoOcmlnp"
    },
    {
      "cell_type": "code",
      "execution_count": 1,
      "metadata": {
        "colab": {
          "base_uri": "https://localhost:8080/"
        },
        "id": "p_X2pd98kTDY",
        "outputId": "ac09489a-cfb7-4775-b06a-61c54cf75d2c"
      },
      "outputs": [
        {
          "output_type": "stream",
          "name": "stdout",
          "text": [
            "Collecting qiskit\n",
            "  Downloading qiskit-0.45.1-py3-none-any.whl (9.6 kB)\n",
            "Collecting qiskit-terra==0.45.1 (from qiskit)\n",
            "  Downloading qiskit_terra-0.45.1-cp38-abi3-manylinux_2_17_x86_64.manylinux2014_x86_64.whl (6.3 MB)\n",
            "\u001b[2K     \u001b[90m━━━━━━━━━━━━━━━━━━━━━━━━━━━━━━━━━━━━━━━━\u001b[0m \u001b[32m6.3/6.3 MB\u001b[0m \u001b[31m18.1 MB/s\u001b[0m eta \u001b[36m0:00:00\u001b[0m\n",
            "\u001b[?25hCollecting rustworkx>=0.13.0 (from qiskit-terra==0.45.1->qiskit)\n",
            "  Downloading rustworkx-0.13.2-cp310-cp310-manylinux_2_17_x86_64.manylinux2014_x86_64.whl (2.0 MB)\n",
            "\u001b[2K     \u001b[90m━━━━━━━━━━━━━━━━━━━━━━━━━━━━━━━━━━━━━━━━\u001b[0m \u001b[32m2.0/2.0 MB\u001b[0m \u001b[31m22.9 MB/s\u001b[0m eta \u001b[36m0:00:00\u001b[0m\n",
            "\u001b[?25hRequirement already satisfied: numpy<2,>=1.17 in /usr/local/lib/python3.10/dist-packages (from qiskit-terra==0.45.1->qiskit) (1.23.5)\n",
            "Collecting ply>=3.10 (from qiskit-terra==0.45.1->qiskit)\n",
            "  Downloading ply-3.11-py2.py3-none-any.whl (49 kB)\n",
            "\u001b[2K     \u001b[90m━━━━━━━━━━━━━━━━━━━━━━━━━━━━━━━━━━━━━━━━\u001b[0m \u001b[32m49.6/49.6 kB\u001b[0m \u001b[31m5.1 MB/s\u001b[0m eta \u001b[36m0:00:00\u001b[0m\n",
            "\u001b[?25hRequirement already satisfied: psutil>=5 in /usr/local/lib/python3.10/dist-packages (from qiskit-terra==0.45.1->qiskit) (5.9.5)\n",
            "Requirement already satisfied: scipy>=1.5 in /usr/local/lib/python3.10/dist-packages (from qiskit-terra==0.45.1->qiskit) (1.11.4)\n",
            "Requirement already satisfied: sympy>=1.3 in /usr/local/lib/python3.10/dist-packages (from qiskit-terra==0.45.1->qiskit) (1.12)\n",
            "Collecting dill>=0.3 (from qiskit-terra==0.45.1->qiskit)\n",
            "  Downloading dill-0.3.7-py3-none-any.whl (115 kB)\n",
            "\u001b[2K     \u001b[90m━━━━━━━━━━━━━━━━━━━━━━━━━━━━━━━━━━━━━━━━\u001b[0m \u001b[32m115.3/115.3 kB\u001b[0m \u001b[31m8.3 MB/s\u001b[0m eta \u001b[36m0:00:00\u001b[0m\n",
            "\u001b[?25hRequirement already satisfied: python-dateutil>=2.8.0 in /usr/local/lib/python3.10/dist-packages (from qiskit-terra==0.45.1->qiskit) (2.8.2)\n",
            "Collecting stevedore>=3.0.0 (from qiskit-terra==0.45.1->qiskit)\n",
            "  Downloading stevedore-5.1.0-py3-none-any.whl (49 kB)\n",
            "\u001b[2K     \u001b[90m━━━━━━━━━━━━━━━━━━━━━━━━━━━━━━━━━━━━━━━━\u001b[0m \u001b[32m49.6/49.6 kB\u001b[0m \u001b[31m3.6 MB/s\u001b[0m eta \u001b[36m0:00:00\u001b[0m\n",
            "\u001b[?25hCollecting symengine!=0.10.0,>=0.9 (from qiskit-terra==0.45.1->qiskit)\n",
            "  Downloading symengine-0.11.0-cp310-cp310-manylinux_2_12_x86_64.manylinux2010_x86_64.whl (39.4 MB)\n",
            "\u001b[2K     \u001b[90m━━━━━━━━━━━━━━━━━━━━━━━━━━━━━━━━━━━━━━━━\u001b[0m \u001b[32m39.4/39.4 MB\u001b[0m \u001b[31m9.7 MB/s\u001b[0m eta \u001b[36m0:00:00\u001b[0m\n",
            "\u001b[?25hRequirement already satisfied: typing-extensions in /usr/local/lib/python3.10/dist-packages (from qiskit-terra==0.45.1->qiskit) (4.5.0)\n",
            "Requirement already satisfied: six>=1.5 in /usr/local/lib/python3.10/dist-packages (from python-dateutil>=2.8.0->qiskit-terra==0.45.1->qiskit) (1.16.0)\n",
            "Collecting pbr!=2.1.0,>=2.0.0 (from stevedore>=3.0.0->qiskit-terra==0.45.1->qiskit)\n",
            "  Downloading pbr-6.0.0-py2.py3-none-any.whl (107 kB)\n",
            "\u001b[2K     \u001b[90m━━━━━━━━━━━━━━━━━━━━━━━━━━━━━━━━━━━━━━━━\u001b[0m \u001b[32m107.5/107.5 kB\u001b[0m \u001b[31m6.3 MB/s\u001b[0m eta \u001b[36m0:00:00\u001b[0m\n",
            "\u001b[?25hRequirement already satisfied: mpmath>=0.19 in /usr/local/lib/python3.10/dist-packages (from sympy>=1.3->qiskit-terra==0.45.1->qiskit) (1.3.0)\n",
            "Installing collected packages: ply, symengine, rustworkx, pbr, dill, stevedore, qiskit-terra, qiskit\n",
            "Successfully installed dill-0.3.7 pbr-6.0.0 ply-3.11 qiskit-0.45.1 qiskit-terra-0.45.1 rustworkx-0.13.2 stevedore-5.1.0 symengine-0.11.0\n",
            "Collecting qiskit-aer\n",
            "  Downloading qiskit_aer-0.13.1-cp310-cp310-manylinux_2_17_x86_64.manylinux2014_x86_64.whl (12.3 MB)\n",
            "\u001b[2K     \u001b[90m━━━━━━━━━━━━━━━━━━━━━━━━━━━━━━━━━━━━━━━━\u001b[0m \u001b[32m12.3/12.3 MB\u001b[0m \u001b[31m75.7 MB/s\u001b[0m eta \u001b[36m0:00:00\u001b[0m\n",
            "\u001b[?25hRequirement already satisfied: qiskit>=0.44.0 in /usr/local/lib/python3.10/dist-packages (from qiskit-aer) (0.45.1)\n",
            "Requirement already satisfied: numpy>=1.16.3 in /usr/local/lib/python3.10/dist-packages (from qiskit-aer) (1.23.5)\n",
            "Requirement already satisfied: scipy>=1.0 in /usr/local/lib/python3.10/dist-packages (from qiskit-aer) (1.11.4)\n",
            "Requirement already satisfied: psutil>=5 in /usr/local/lib/python3.10/dist-packages (from qiskit-aer) (5.9.5)\n",
            "Requirement already satisfied: qiskit-terra==0.45.1 in /usr/local/lib/python3.10/dist-packages (from qiskit>=0.44.0->qiskit-aer) (0.45.1)\n",
            "Requirement already satisfied: rustworkx>=0.13.0 in /usr/local/lib/python3.10/dist-packages (from qiskit-terra==0.45.1->qiskit>=0.44.0->qiskit-aer) (0.13.2)\n",
            "Requirement already satisfied: ply>=3.10 in /usr/local/lib/python3.10/dist-packages (from qiskit-terra==0.45.1->qiskit>=0.44.0->qiskit-aer) (3.11)\n",
            "Requirement already satisfied: sympy>=1.3 in /usr/local/lib/python3.10/dist-packages (from qiskit-terra==0.45.1->qiskit>=0.44.0->qiskit-aer) (1.12)\n",
            "Requirement already satisfied: dill>=0.3 in /usr/local/lib/python3.10/dist-packages (from qiskit-terra==0.45.1->qiskit>=0.44.0->qiskit-aer) (0.3.7)\n",
            "Requirement already satisfied: python-dateutil>=2.8.0 in /usr/local/lib/python3.10/dist-packages (from qiskit-terra==0.45.1->qiskit>=0.44.0->qiskit-aer) (2.8.2)\n",
            "Requirement already satisfied: stevedore>=3.0.0 in /usr/local/lib/python3.10/dist-packages (from qiskit-terra==0.45.1->qiskit>=0.44.0->qiskit-aer) (5.1.0)\n",
            "Requirement already satisfied: symengine!=0.10.0,>=0.9 in /usr/local/lib/python3.10/dist-packages (from qiskit-terra==0.45.1->qiskit>=0.44.0->qiskit-aer) (0.11.0)\n",
            "Requirement already satisfied: typing-extensions in /usr/local/lib/python3.10/dist-packages (from qiskit-terra==0.45.1->qiskit>=0.44.0->qiskit-aer) (4.5.0)\n",
            "Requirement already satisfied: six>=1.5 in /usr/local/lib/python3.10/dist-packages (from python-dateutil>=2.8.0->qiskit-terra==0.45.1->qiskit>=0.44.0->qiskit-aer) (1.16.0)\n",
            "Requirement already satisfied: pbr!=2.1.0,>=2.0.0 in /usr/local/lib/python3.10/dist-packages (from stevedore>=3.0.0->qiskit-terra==0.45.1->qiskit>=0.44.0->qiskit-aer) (6.0.0)\n",
            "Requirement already satisfied: mpmath>=0.19 in /usr/local/lib/python3.10/dist-packages (from sympy>=1.3->qiskit-terra==0.45.1->qiskit>=0.44.0->qiskit-aer) (1.3.0)\n",
            "Installing collected packages: qiskit-aer\n",
            "Successfully installed qiskit-aer-0.13.1\n",
            "Collecting pylatexenc\n",
            "  Downloading pylatexenc-2.10.tar.gz (162 kB)\n",
            "\u001b[2K     \u001b[90m━━━━━━━━━━━━━━━━━━━━━━━━━━━━━━━━━━━━━━━━\u001b[0m \u001b[32m162.6/162.6 kB\u001b[0m \u001b[31m2.0 MB/s\u001b[0m eta \u001b[36m0:00:00\u001b[0m\n",
            "\u001b[?25h  Preparing metadata (setup.py) ... \u001b[?25l\u001b[?25hdone\n",
            "Building wheels for collected packages: pylatexenc\n",
            "  Building wheel for pylatexenc (setup.py) ... \u001b[?25l\u001b[?25hdone\n",
            "  Created wheel for pylatexenc: filename=pylatexenc-2.10-py3-none-any.whl size=136816 sha256=55cd07ef453a047e9f2b591ad2a0d6a505a3b1186b37ec8e115906b4e63c8f2c\n",
            "  Stored in directory: /root/.cache/pip/wheels/d3/31/8b/e09b0386afd80cfc556c00408c9aeea5c35c4d484a9c762fd5\n",
            "Successfully built pylatexenc\n",
            "Installing collected packages: pylatexenc\n",
            "Successfully installed pylatexenc-2.10\n",
            "Collecting qiskit-ibmq-provider\n",
            "  Downloading qiskit_ibmq_provider-0.20.2-py3-none-any.whl (241 kB)\n",
            "\u001b[2K     \u001b[90m━━━━━━━━━━━━━━━━━━━━━━━━━━━━━━━━━━━━━━━━\u001b[0m \u001b[32m241.5/241.5 kB\u001b[0m \u001b[31m4.5 MB/s\u001b[0m eta \u001b[36m0:00:00\u001b[0m\n",
            "\u001b[?25hRequirement already satisfied: qiskit-terra>=0.18.0 in /usr/local/lib/python3.10/dist-packages (from qiskit-ibmq-provider) (0.45.1)\n",
            "Requirement already satisfied: requests>=2.19 in /usr/local/lib/python3.10/dist-packages (from qiskit-ibmq-provider) (2.31.0)\n",
            "Collecting requests-ntlm<=1.1.0 (from qiskit-ibmq-provider)\n",
            "  Downloading requests_ntlm-1.1.0-py2.py3-none-any.whl (5.7 kB)\n",
            "Requirement already satisfied: numpy<1.24 in /usr/local/lib/python3.10/dist-packages (from qiskit-ibmq-provider) (1.23.5)\n",
            "Requirement already satisfied: urllib3>=1.21.1 in /usr/local/lib/python3.10/dist-packages (from qiskit-ibmq-provider) (2.0.7)\n",
            "Requirement already satisfied: python-dateutil>=2.8.0 in /usr/local/lib/python3.10/dist-packages (from qiskit-ibmq-provider) (2.8.2)\n",
            "Requirement already satisfied: websocket-client>=1.5.1 in /usr/local/lib/python3.10/dist-packages (from qiskit-ibmq-provider) (1.7.0)\n",
            "Collecting websockets>=10.0 (from qiskit-ibmq-provider)\n",
            "  Downloading websockets-12.0-cp310-cp310-manylinux_2_5_x86_64.manylinux1_x86_64.manylinux_2_17_x86_64.manylinux2014_x86_64.whl (130 kB)\n",
            "\u001b[2K     \u001b[90m━━━━━━━━━━━━━━━━━━━━━━━━━━━━━━━━━━━━━━━━\u001b[0m \u001b[32m130.2/130.2 kB\u001b[0m \u001b[31m12.6 MB/s\u001b[0m eta \u001b[36m0:00:00\u001b[0m\n",
            "\u001b[?25hRequirement already satisfied: six>=1.5 in /usr/local/lib/python3.10/dist-packages (from python-dateutil>=2.8.0->qiskit-ibmq-provider) (1.16.0)\n",
            "Requirement already satisfied: rustworkx>=0.13.0 in /usr/local/lib/python3.10/dist-packages (from qiskit-terra>=0.18.0->qiskit-ibmq-provider) (0.13.2)\n",
            "Requirement already satisfied: ply>=3.10 in /usr/local/lib/python3.10/dist-packages (from qiskit-terra>=0.18.0->qiskit-ibmq-provider) (3.11)\n",
            "Requirement already satisfied: psutil>=5 in /usr/local/lib/python3.10/dist-packages (from qiskit-terra>=0.18.0->qiskit-ibmq-provider) (5.9.5)\n",
            "Requirement already satisfied: scipy>=1.5 in /usr/local/lib/python3.10/dist-packages (from qiskit-terra>=0.18.0->qiskit-ibmq-provider) (1.11.4)\n",
            "Requirement already satisfied: sympy>=1.3 in /usr/local/lib/python3.10/dist-packages (from qiskit-terra>=0.18.0->qiskit-ibmq-provider) (1.12)\n",
            "Requirement already satisfied: dill>=0.3 in /usr/local/lib/python3.10/dist-packages (from qiskit-terra>=0.18.0->qiskit-ibmq-provider) (0.3.7)\n",
            "Requirement already satisfied: stevedore>=3.0.0 in /usr/local/lib/python3.10/dist-packages (from qiskit-terra>=0.18.0->qiskit-ibmq-provider) (5.1.0)\n",
            "Requirement already satisfied: symengine!=0.10.0,>=0.9 in /usr/local/lib/python3.10/dist-packages (from qiskit-terra>=0.18.0->qiskit-ibmq-provider) (0.11.0)\n",
            "Requirement already satisfied: typing-extensions in /usr/local/lib/python3.10/dist-packages (from qiskit-terra>=0.18.0->qiskit-ibmq-provider) (4.5.0)\n",
            "Requirement already satisfied: charset-normalizer<4,>=2 in /usr/local/lib/python3.10/dist-packages (from requests>=2.19->qiskit-ibmq-provider) (3.3.2)\n",
            "Requirement already satisfied: idna<4,>=2.5 in /usr/local/lib/python3.10/dist-packages (from requests>=2.19->qiskit-ibmq-provider) (3.6)\n",
            "Requirement already satisfied: certifi>=2017.4.17 in /usr/local/lib/python3.10/dist-packages (from requests>=2.19->qiskit-ibmq-provider) (2023.11.17)\n",
            "Collecting ntlm-auth>=1.0.2 (from requests-ntlm<=1.1.0->qiskit-ibmq-provider)\n",
            "  Downloading ntlm_auth-1.5.0-py2.py3-none-any.whl (29 kB)\n",
            "Requirement already satisfied: cryptography>=1.3 in /usr/local/lib/python3.10/dist-packages (from requests-ntlm<=1.1.0->qiskit-ibmq-provider) (41.0.7)\n",
            "Requirement already satisfied: cffi>=1.12 in /usr/local/lib/python3.10/dist-packages (from cryptography>=1.3->requests-ntlm<=1.1.0->qiskit-ibmq-provider) (1.16.0)\n",
            "Requirement already satisfied: pbr!=2.1.0,>=2.0.0 in /usr/local/lib/python3.10/dist-packages (from stevedore>=3.0.0->qiskit-terra>=0.18.0->qiskit-ibmq-provider) (6.0.0)\n",
            "Requirement already satisfied: mpmath>=0.19 in /usr/local/lib/python3.10/dist-packages (from sympy>=1.3->qiskit-terra>=0.18.0->qiskit-ibmq-provider) (1.3.0)\n",
            "Requirement already satisfied: pycparser in /usr/local/lib/python3.10/dist-packages (from cffi>=1.12->cryptography>=1.3->requests-ntlm<=1.1.0->qiskit-ibmq-provider) (2.21)\n",
            "Installing collected packages: websockets, ntlm-auth, requests-ntlm, qiskit-ibmq-provider\n",
            "Successfully installed ntlm-auth-1.5.0 qiskit-ibmq-provider-0.20.2 requests-ntlm-1.1.0 websockets-12.0\n"
          ]
        }
      ],
      "source": [
        "installed = False\n",
        "if not installed:\n",
        "  !pip install qiskit\n",
        "  !pip install qiskit-aer\n",
        "  !pip install pylatexenc\n",
        "  !pip install qiskit-ibmq-provider"
      ],
      "id": "p_X2pd98kTDY"
    },
    {
      "cell_type": "code",
      "execution_count": 2,
      "metadata": {
        "id": "7a52ffae-26cc-4bb6-bfe1-e30497a3c5bf"
      },
      "outputs": [],
      "source": [
        "import numpy as np\n",
        "import matplotlib.pyplot as plt\n",
        "\n",
        "from qiskit import *\n",
        "from qiskit.providers.ibmq import *\n",
        "from qiskit.visualization import *\n",
        "from qiskit.quantum_info import *\n",
        "from qiskit.tools.monitor import *"
      ],
      "id": "7a52ffae-26cc-4bb6-bfe1-e30497a3c5bf"
    },
    {
      "cell_type": "markdown",
      "metadata": {
        "id": "TcU0MNk9zunv"
      },
      "source": [
        "## Implementing the Algorithm"
      ],
      "id": "TcU0MNk9zunv"
    },
    {
      "cell_type": "markdown",
      "metadata": {
        "id": "xQVX5YJcnHGQ"
      },
      "source": [
        "The Deutsch-Jozsa algorithm determines whether a function $f: \\{0,1\\}^n\\rightarrow\\{0,1\\}$ is even or balanced. So first, we need to generate the function $f$. The method below creates the circuit for a random even or balanced function given the desired number of bits."
      ],
      "id": "xQVX5YJcnHGQ"
    },
    {
      "cell_type": "code",
      "execution_count": 3,
      "metadata": {
        "id": "V_JboKeG3bDJ"
      },
      "outputs": [],
      "source": [
        "# Defines circuit for Uf\n",
        "# n = # qubits\n",
        "# func_type = \"even\"/\"balanced\"\n",
        "def create_Uf(n, func_type):\n",
        "  circuit = QuantumCircuit(n+1)\n",
        "\n",
        "  # Even function\n",
        "  if(func_type == \"even\"):\n",
        "    # Randomly decide output - either 0 or 1\n",
        "    output = np.random.randint(2)\n",
        "    if output == 1:\n",
        "      circuit.x(n)\n",
        "\n",
        "  # Balanced function\n",
        "  if(func_type == \"balanced\"):\n",
        "    ## Randomly decide which bits to flip\n",
        "    x_encoding = np.random.randint(0, 2, n)\n",
        "    for qubit in range(n):\n",
        "        if x_encoding[qubit] == 1:\n",
        "            circuit.x(qubit)\n",
        "    for qubit in range(n):\n",
        "        circuit.cx(qubit, n)\n",
        "    for qubit in range(n):\n",
        "        if x_encoding[qubit] == 1:\n",
        "            circuit.x(qubit)\n",
        "\n",
        "  circuit.draw('mpl', style='clifford')\n",
        "  circuit.name = \"Uf\"\n",
        "\n",
        "  return circuit"
      ],
      "id": "V_JboKeG3bDJ"
    },
    {
      "cell_type": "markdown",
      "metadata": {
        "id": "AShvGA9Onb07"
      },
      "source": [
        "Let's see an example of a function in action. Qiskit allows us to print out the circuit we created to see what is happening. Note that there are only two possible functions for even functions (either it always outputs 0 or it always outputs 1), while there are $2^n$ possible functions for balanced functions."
      ],
      "id": "AShvGA9Onb07"
    },
    {
      "cell_type": "code",
      "execution_count": 4,
      "metadata": {
        "colab": {
          "base_uri": "https://localhost:8080/",
          "height": 449
        },
        "id": "BmbyvNEWGK2x",
        "outputId": "fff87992-ceaf-4d17-e359-9e5d8bb4f6e3"
      },
      "outputs": [
        {
          "output_type": "execute_result",
          "data": {
            "text/plain": [
              "<Figure size 621.941x535.111 with 1 Axes>"
            ],
            "image/png": "[encoded data removed]"
          },
          "metadata": {},
          "execution_count": 4
        }
      ],
      "source": [
        "n = 5\n",
        "func_type = \"balanced\"\n",
        "\n",
        "Uf = create_Uf(n, func_type)\n",
        "Uf.draw('mpl', style='clifford')"
      ],
      "id": "BmbyvNEWGK2x"
    },
    {
      "cell_type": "markdown",
      "metadata": {
        "id": "CFTdpLngnjYJ"
      },
      "source": [
        "We can also test that the function is truly even or balanced by simulating it.. Here, I've put the $A$ system into an equal superposition and added a measurement to the $B$ system qubit to see whether the function is outputting $0$ or $1$ for a given input."
      ],
      "id": "CFTdpLngnjYJ"
    },
    {
      "cell_type": "code",
      "execution_count": 5,
      "metadata": {
        "colab": {
          "base_uri": "https://localhost:8080/",
          "height": 513
        },
        "id": "KXprJoy2NMpL",
        "outputId": "2b6aa36e-d66b-45d0-89fc-0edf79d948d2"
      },
      "outputs": [
        {
          "output_type": "execute_result",
          "data": {
            "text/plain": [
              "<Figure size 371.107x618.722 with 1 Axes>"
            ],
            "image/png": "[encoded data removed]"
          },
          "metadata": {},
          "execution_count": 5
        }
      ],
      "source": [
        "function_tester = QuantumCircuit(n+1, 1)\n",
        "function_tester.h(range(n))\n",
        "function_tester.append(Uf, range(n+1))\n",
        "function_tester.measure(n,0)\n",
        "function_tester.draw('mpl', style='clifford')"
      ],
      "id": "KXprJoy2NMpL"
    },
    {
      "cell_type": "markdown",
      "metadata": {
        "id": "ANdfQijRnpgW"
      },
      "source": [
        "In order to run the circuit, we need to \"transpile\" it with a specified backend. We will use the Aer simulator for this, which does not use real quantum computers and thus has no errors. Qiskit gives us a useful function for plotting the results of the simulation, which gives us the counts of each possible outcome. For even functions, we should only get one outcome, and for balanced functions, we should get about half 0s and half 1s."
      ],
      "id": "ANdfQijRnpgW"
    },
    {
      "cell_type": "code",
      "execution_count": 6,
      "metadata": {
        "colab": {
          "base_uri": "https://localhost:8080/",
          "height": 449
        },
        "id": "JnsJc_C1Nuex",
        "outputId": "2501a437-9fb8-4e6b-b975-756918379bca"
      },
      "outputs": [
        {
          "output_type": "execute_result",
          "data": {
            "text/plain": [
              "<Figure size 700x500 with 1 Axes>"
            ],
            "image/png": "[encoded data removed]"
          },
          "metadata": {},
          "execution_count": 6
        }
      ],
      "source": [
        "simulator = Aer.get_backend('aer_simulator')\n",
        "transpiled_tester = transpile(function_tester, simulator)\n",
        "results = simulator.run(transpiled_tester, shots = 1000).result()\n",
        "counts = results.get_counts()\n",
        "plot_histogram(counts)"
      ],
      "id": "JnsJc_C1Nuex"
    },
    {
      "cell_type": "markdown",
      "metadata": {
        "id": "UcnXmmujn8Qp"
      },
      "source": [
        "Now, we can define a function for creating the Deutch-Jozsa (DJ) algorithm using a given $U_f$ circuit. This involves applying the $H^{\\otimes n}$ gate to the $A$ system and the $X$ and $H$ gates to the $B$ system before apply the $U_f$ circuit. Then we apply $H^{\\otimes n}$ to the $A$ system again before measuring."
      ],
      "id": "UcnXmmujn8Qp"
    },
    {
      "cell_type": "code",
      "execution_count": 7,
      "metadata": {
        "id": "KEOosISePf8k"
      },
      "outputs": [],
      "source": [
        "def create_DJ(Uf):\n",
        "    n = Uf.num_qubits - 1\n",
        "    circuit = QuantumCircuit(n+1, n)\n",
        "\n",
        "    # Apply X to B system\n",
        "    circuit.x(n)\n",
        "    # Apply H to both systems\n",
        "    for qubit in range(n+1):\n",
        "        circuit.h(qubit)\n",
        "\n",
        "    # Apply Uf\n",
        "    circuit.append(Uf, range(n+1))\n",
        "\n",
        "    # Apply H again to A system\n",
        "    for qubit in range(n):\n",
        "        circuit.h(qubit)\n",
        "\n",
        "    # Measure\n",
        "    for i in range(n):\n",
        "        circuit.measure(i, i)\n",
        "\n",
        "    return circuit"
      ],
      "id": "KEOosISePf8k"
    },
    {
      "cell_type": "markdown",
      "metadata": {
        "id": "OJpDRIfrpONV"
      },
      "source": [
        "We can test this out by creating an example DJ algorithm on the $U_f$ circuit we created."
      ],
      "id": "OJpDRIfrpONV"
    },
    {
      "cell_type": "code",
      "execution_count": 8,
      "metadata": {
        "colab": {
          "base_uri": "https://localhost:8080/",
          "height": 513
        },
        "id": "m7XHLEDqT0lG",
        "outputId": "bfb44b16-af6e-4537-e349-76feeae0d035"
      },
      "outputs": [
        {
          "output_type": "execute_result",
          "data": {
            "text/plain": [
              "<Figure size 872.774x618.722 with 1 Axes>"
            ],
            "image/png": "[encoded data removed]"
          },
          "metadata": {},
          "execution_count": 8
        }
      ],
      "source": [
        "DJ = create_DJ(Uf)\n",
        "DJ.draw('mpl', style = 'clifford')"
      ],
      "id": "m7XHLEDqT0lG"
    },
    {
      "cell_type": "markdown",
      "metadata": {
        "id": "iIvVbd4TpVe3"
      },
      "source": [
        "When we simulate the algorithm on a fake quantum computer, we should always get the correct answer, which is all 0s if even and all 1s if balanced."
      ],
      "id": "iIvVbd4TpVe3"
    },
    {
      "cell_type": "code",
      "execution_count": 9,
      "metadata": {
        "colab": {
          "base_uri": "https://localhost:8080/",
          "height": 496
        },
        "id": "q8YAWzUgUEwC",
        "outputId": "52dd2bc8-8637-4c80-8170-519d2c411917"
      },
      "outputs": [
        {
          "output_type": "execute_result",
          "data": {
            "text/plain": [
              "<Figure size 700x500 with 1 Axes>"
            ],
            "image/png": "[encoded data removed]"
          },
          "metadata": {},
          "execution_count": 9
        }
      ],
      "source": [
        "transpiled_DJ = transpile(DJ, simulator)\n",
        "results = simulator.run(transpiled_DJ, shots = 100).result()\n",
        "answer = results.get_counts()\n",
        "plot_histogram(answer)"
      ],
      "id": "q8YAWzUgUEwC"
    },
    {
      "cell_type": "markdown",
      "metadata": {
        "id": "3FSjRlC2pkke"
      },
      "source": [
        "Using the Aer simulator, we always get the correct outcome. But how would this algorithm perform with real quantum computers? Let's see!"
      ],
      "id": "3FSjRlC2pkke"
    },
    {
      "cell_type": "markdown",
      "metadata": {
        "id": "4p9youDn_jnF"
      },
      "source": [
        "## Testing on Real Quantum Computers\n",
        "\n",
        "Now, let's see how IBM's quantum computers perform on this algorithm. First, we need to specify an API key that comes from creating an IBM Quantum account. You get about 10 minutes of free credits - so far I have used about 3 minutes from running this notebook many times."
      ],
      "id": "4p9youDn_jnF"
    },
    {
      "cell_type": "code",
      "execution_count": 10,
      "metadata": {
        "id": "qUskqB0chzXk"
      },
      "outputs": [],
      "source": [
        "# My IBM API code - use once or twice if you want or consider creating your own account!\n",
        "IBMQ.save_account(\"d484d1cee1b1e61cbbfe505e4fda044514d51aaaeb2eaeac38c68d153eb9c6603edbad820aa18ca5f730b8017d5d776e92b783503f25c5150c6879a7919abd84\")\n",
        "IBMQ.load_account()\n",
        "provider = IBMQ.get_provider(hub='ibm-q')"
      ],
      "id": "qUskqB0chzXk"
    },
    {
      "cell_type": "markdown",
      "metadata": {
        "id": "DoFpbKXavkXP"
      },
      "source": [
        "Now, we can connect to a real quantum computer backend! The code below allows us to access the least busy one with a few filters: it must have enough qubits, not be a simulator, and be operational."
      ],
      "id": "DoFpbKXavkXP"
    },
    {
      "cell_type": "code",
      "execution_count": 11,
      "metadata": {
        "colab": {
          "base_uri": "https://localhost:8080/"
        },
        "id": "AfgyJAdmrL-j",
        "outputId": "10d34e17-7787-4328-ac69-fda773a07ad0"
      },
      "outputs": [
        {
          "output_type": "stream",
          "name": "stdout",
          "text": [
            "ibm_osaka\n"
          ]
        }
      ],
      "source": [
        "backend = least_busy(provider.backends(filters=lambda x:\n",
        "                                        x.configuration().n_qubits >= n+1 and\n",
        "                                        not x.configuration().simulator and\n",
        "                                        x.status().operational))\n",
        "print(backend)"
      ],
      "id": "AfgyJAdmrL-j"
    },
    {
      "cell_type": "markdown",
      "metadata": {
        "id": "bsMbWLaVvrso"
      },
      "source": [
        "Let's try running the DJ circuit we created previously on a real quantum computer. Now, there will be some error."
      ],
      "id": "bsMbWLaVvrso"
    },
    {
      "cell_type": "code",
      "execution_count": null,
      "metadata": {
        "id": "nZjkU85diWQ2"
      },
      "outputs": [],
      "source": [
        "transpiled_DJ_real = transpile(DJ, backend, optimization_level=3)\n",
        "job = backend.run(transpiled_DJ_real, shots = 1000)\n",
        "counts = job.result().get_counts()\n",
        "\n",
        "plot_histogram(counts)"
      ],
      "id": "nZjkU85diWQ2"
    },
    {
      "cell_type": "markdown",
      "metadata": {
        "id": "oLJjU7iovzpm"
      },
      "source": [
        "What's the error rate? We can calculate the proportion of outcomes that were not the desired result."
      ],
      "id": "oLJjU7iovzpm"
    },
    {
      "cell_type": "code",
      "execution_count": null,
      "metadata": {
        "id": "zFVgHjb1iw49"
      },
      "outputs": [],
      "source": [
        "sum = 0\n",
        "for key in counts:\n",
        "  sum += (counts.get(key))\n",
        "\n",
        "truth = \"0\"*n if func_type == \"even\" else \"1\"*n\n",
        "\n",
        "error_rate = 1 - counts.get(truth) / sum\n",
        "error_rate"
      ],
      "id": "zFVgHjb1iw49"
    },
    {
      "cell_type": "markdown",
      "metadata": {
        "id": "Qwqpwc_iqwjn"
      },
      "source": [
        "Let's see how the error rate changes with the number of qubits. Below is a function for calculating this error rate for a single run of the algorithm."
      ],
      "id": "Qwqpwc_iqwjn"
    },
    {
      "cell_type": "code",
      "execution_count": null,
      "metadata": {
        "id": "V1KbNtVWqvnK"
      },
      "outputs": [],
      "source": [
        "# Calculates the error rate for a DJ algorithm with n qubits, Uf of type func_type\n",
        "# shots controls how many times the circuit runs\n",
        "# isReal controls whether the function uses a real backend on a simulator\n",
        "def calc_error(n, func_type, shots, isReal):\n",
        "    Uf = create_Uf(n, func_type)\n",
        "    DJ = create_DJ(Uf)\n",
        "\n",
        "    if isReal:\n",
        "      backend = least_busy(provider.backends(filters=lambda x:\n",
        "                                              x.configuration().n_qubits >= n+1 and\n",
        "                                              not x.configuration().simulator and\n",
        "                                              x.status().operational))\n",
        "    else:\n",
        "      backend = Aer.get_backend('aer_simulator')\n",
        "\n",
        "    transpiled_DJ = transpile(DJ, backend, optimization_level=3)\n",
        "    job = backend.run(transpiled_DJ, shots = shots)\n",
        "    counts = job.result().get_counts()\n",
        "\n",
        "    # Desired outcome will be all 0s or all 1s depending on function type\n",
        "    truth = \"0\"*n if func_type == \"even\" else \"1\"*n\n",
        "    error_rate = 1 - (counts.get(truth) / shots)\n",
        "\n",
        "    return error_rate"
      ],
      "id": "V1KbNtVWqvnK"
    },
    {
      "cell_type": "markdown",
      "metadata": {
        "id": "Gc15HmNu6B-y"
      },
      "source": [
        "Now, we can test the error rates for different numbers of qubits and different function types and compare!"
      ],
      "id": "Gc15HmNu6B-y"
    },
    {
      "cell_type": "code",
      "execution_count": null,
      "metadata": {
        "id": "-pcPn4Lwv3w2"
      },
      "outputs": [],
      "source": [
        "shots = 1000\n",
        "isReal = True # use sparingly\n",
        "max_qubits = 5\n",
        "\n",
        "n_seq = range(1, max_qubits+1)\n",
        "\n",
        "# Calculate error rates for each number of qubits for each type of function\n",
        "error_rates_even = [calc_error(n, \"even\", shots, isReal) for n in n_seq]\n",
        "error_rates_balanced = [calc_error(n, \"balanced\", shots, isReal) for n in n_seq]\n",
        "\n",
        "# Plot the results\n",
        "plt.plot(n_seq, error_rates_even, marker='o', linestyle='-', color='b', label='Even')\n",
        "plt.plot(n_seq, error_rates_balanced, marker='o', linestyle='-', color='r', label='Balanced')\n",
        "plt.xticks(n_seq)\n",
        "plt.ylim(0,1)\n",
        "plt.legend()\n",
        "plt.title('Error Rate vs. Number of Qubits')\n",
        "plt.xlabel('Number of Qubits')\n",
        "plt.ylabel('Error Rate')\n",
        "plt.grid(False)\n",
        "plt.show()"
      ],
      "id": "-pcPn4Lwv3w2"
    },
    {
      "cell_type": "markdown",
      "metadata": {
        "id": "wpyGUgGM6L4v"
      },
      "source": [
        "Looks like for even functions, the error rate is always low, while for balanced functions it rises quite quickly with the number of qubits. This is an interesting result - I would love to look into why the error rates are so different."
      ],
      "id": "wpyGUgGM6L4v"
    },
    {
      "cell_type": "markdown",
      "metadata": {
        "id": "s-HSnDdt_FF_"
      },
      "source": [
        "## References\n",
        "\n",
        "https://docs.quantum.ibm.com/\n",
        "\n",
        "https://github.com/Qiskit/textbook/blob/main/notebooks/ch-algorithms/deutsch-jozsa.ipynb"
      ],
      "id": "s-HSnDdt_FF_"
    }
  ],
  "metadata": {
    "colab": {
      "provenance": [],
      "include_colab_link": true
    },
    "kernelspec": {
      "display_name": "Python 3 (ipykernel)",
      "language": "python",
      "name": "python3"
    },
    "language_info": {
      "codemirror_mode": {
        "name": "ipython",
        "version": 3
      },
      "file_extension": ".py",
      "mimetype": "text/x-python",
      "name": "python",
      "nbconvert_exporter": "python",
      "pygments_lexer": "ipython3",
      "version": "3.11.5"
    }
  },
  "nbformat": 4,
  "nbformat_minor": 5
}